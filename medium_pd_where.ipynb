{
 "cells": [
  {
   "cell_type": "markdown",
   "id": "d121557d-ca08-49c9-8d05-7254967a5952",
   "metadata": {},
   "source": [
    "#### pd.where #Titanic: masking and mapping\n",
    "___ \n",
    "In my previous [Medium][1] write-up, I attempted, with success, using [***np.where***][2] to impute missing NaN/null value. I showed that the trick is the *nested np.where*. It was an attempt proffering alternative to the *if ... condition* often used in the [**#Titanic** dataset][3] to impute average values; typically for age\n",
    "\n",
    "This follow-up, takes the *np.where* to the *native* pandas [***pd.where()***][4]. \n",
    "Unlike np.where which returns a given 'value' when condition is true and another when condition is false,  \n",
    "pd.where on the otherhand returns the dataframe or column when condition is true and given value when the condition is false.  \n",
    "\n",
    "The basic construct is `pd.where(condition, y)` | pd is actually pandas.DataFrame  \n",
    "\n",
    "Before proceeding, let's take a look at the null/NaN value.\n",
    "NaN (Not a Number) was formalised in the [IEEE Standard 754][5], published in 1985 and revised in 2008 and 2019. It is a standard for binary and decimal floating-point arithmetic. [NaN][6] as the name imply, cannot be engaged as number. In essence, attempts to use 'operators' (such as like (==), equal to (= or /eq)) will result in errors or unpredictable outcomes.\n",
    "\n",
    "[Outcome]\n",
    "For the type of *if ... condition* we are looking at, where we return a specific value when the condition is true or false,  \n",
    "in my limited knowledge, the conclusion is that pd.where would not work, under the circumstances.\n",
    "\n",
    "There are alternatives though. I'll take a look at some: [loc][7], [mask][8], and [map][9].\n",
    "\n",
    "**[loc[]]**\n",
    "The Pandas (DataFrame) [.loc][7] access a group of rows and columns by label(s). Due to its ability to handle boolean array and set values,   \n",
    "we can leverage .loc to 'lookup' a condition and set value for a given column.\n",
    "In the simplest form, this will be: `df.loc[(cond), data col to change] = value to change`\n",
    "\n",
    "**[mask]**\n",
    "The Pandas (DataFrame) [mask() function][8] works similarly to the np.where: replace a value when the condition is *true*.  \n",
    "We can apply in similar manner to the Python's map() function.\n",
    "NB: Pandas .where() on the other hand, returns self (object of same shape) when condition is *true*  \n",
    "To get .mask() workig, I need to set [inplace flag to True][12]\n",
    "\n",
    "\n",
    "**[map()]**\n",
    "Python has a [built-in map() function][9]. It returns an iterator based on a function applied to (any number of) iterables.  \n",
    "In our case, we can check our pclass column (col[1]) and substitute the values in our column of interest, the age (col[0]) with 37 and 39.  \n",
    "To implement this substitution, we apply using [fillna()][10].  \n",
    "In the simplest form: `df.col[1].map({1: 37, 2: 39}).fillna(24)`\n",
    "Essentially, where age in NaN and pclass is '1' or '2', we substitute with '37' and '39' respectively,  \n",
    "else, where age is NaN, we substitute with '24'\n",
    "\n",
    "\n",
    "NB: I used a dynamically generated data as a proxy for the #titanic dataset.\n",
    "\n",
    "[1]: <https://medium.com/@AKayode_research/np-where-the-titanic-83bdc0a16b11> \"np.where\"\n",
    "[2]: <https://numpy.org/doc/stable/reference/generated/numpy.where.html> \"NumPy. np.where (v1.23)\"\n",
    "[3]: <https://kaggle.com/competitions/titanic/data> \"Kaggle Titanic dataset\"\n",
    "[4]: <https://pandas.pydata.org/pandas-docs/stable/reference/api/pandas.DataFrame.where.html> \"Pandas.where 1.5.2\"\n",
    "[5]: <https://standards.ieee.org/ieee/754/6210/> \"IEEE NaN\"\n",
    "[6]: <https://python-course.eu/numerical-programming/dealing-with-nan.php> \"NaN operator\"\n",
    "[7]: <https://pandas.pydata.org/docs/reference/api/pandas.DataFrame.loc.html> \"Pandas loc\"\n",
    "[8]: <https://pandas.pydata.org/docs/reference/api/pandas.DataFrame.mask.html> \"Pandas Mask\"\n",
    "[9]: <https://docs.python.org/3/library/functions.html#map> \"Python built-in map()\"\n",
    "[10]: <https://pandas.pydata.org/docs/reference/api/pandas.DataFrame.fillna.html> \"Pandas fillna()\"\n",
    "[11]: <https://stackoverflow.com/a/74630735/20107918> \"SO: pd map\"\n",
    "[12]: <https://stackoverflow.com/questions/61177777/possible-to-use-mask-or-where-in-pandas-on-a-whole-dataframe-but-change-only> \"Pandas Mask inplace\"\n"
   ]
  },
  {
   "cell_type": "code",
   "execution_count": 1,
   "id": "52eead27-8c11-4690-baac-533b561fb463",
   "metadata": {},
   "outputs": [],
   "source": [
    "## import libraries\n",
    "import pandas as pd\n",
    "import numpy as np"
   ]
  },
  {
   "cell_type": "code",
   "execution_count": 2,
   "id": "6547717e-a165-4b13-b1db-2dacab366da9",
   "metadata": {},
   "outputs": [
    {
     "name": "stdout",
     "output_type": "stream",
     "text": [
      "A: [20 23 26 29] | B: [3 4 5 2 1 2 3 1]\n"
     ]
    },
    {
     "data": {
      "text/html": [
       "<div>\n",
       "<style scoped>\n",
       "    .dataframe tbody tr th:only-of-type {\n",
       "        vertical-align: middle;\n",
       "    }\n",
       "\n",
       "    .dataframe tbody tr th {\n",
       "        vertical-align: top;\n",
       "    }\n",
       "\n",
       "    .dataframe thead th {\n",
       "        text-align: right;\n",
       "    }\n",
       "</style>\n",
       "<table border=\"1\" class=\"dataframe\">\n",
       "  <thead>\n",
       "    <tr style=\"text-align: right;\">\n",
       "      <th></th>\n",
       "      <th>0</th>\n",
       "      <th>1</th>\n",
       "    </tr>\n",
       "  </thead>\n",
       "  <tbody>\n",
       "    <tr>\n",
       "      <th>0</th>\n",
       "      <td>20.0</td>\n",
       "      <td>3</td>\n",
       "    </tr>\n",
       "    <tr>\n",
       "      <th>1</th>\n",
       "      <td>23.0</td>\n",
       "      <td>4</td>\n",
       "    </tr>\n",
       "    <tr>\n",
       "      <th>2</th>\n",
       "      <td>26.0</td>\n",
       "      <td>5</td>\n",
       "    </tr>\n",
       "    <tr>\n",
       "      <th>3</th>\n",
       "      <td>29.0</td>\n",
       "      <td>2</td>\n",
       "    </tr>\n",
       "    <tr>\n",
       "      <th>4</th>\n",
       "      <td>NaN</td>\n",
       "      <td>1</td>\n",
       "    </tr>\n",
       "    <tr>\n",
       "      <th>5</th>\n",
       "      <td>NaN</td>\n",
       "      <td>2</td>\n",
       "    </tr>\n",
       "    <tr>\n",
       "      <th>6</th>\n",
       "      <td>NaN</td>\n",
       "      <td>3</td>\n",
       "    </tr>\n",
       "    <tr>\n",
       "      <th>7</th>\n",
       "      <td>NaN</td>\n",
       "      <td>1</td>\n",
       "    </tr>\n",
       "  </tbody>\n",
       "</table>\n",
       "</div>"
      ],
      "text/plain": [
       "      0  1\n",
       "0  20.0  3\n",
       "1  23.0  4\n",
       "2  26.0  5\n",
       "3  29.0  2\n",
       "4   NaN  1\n",
       "5   NaN  2\n",
       "6   NaN  3\n",
       "7   NaN  1"
      ]
     },
     "execution_count": 2,
     "metadata": {},
     "output_type": "execute_result"
    }
   ],
   "source": [
    "## create data (in lieu of the Titanic dataset)\n",
    "A = np.arange(20, 30, 3) #This will create a list with 4 elements (needed to ensure at least one NaN)\n",
    "\n",
    "B1 = np.arange(3,6)\n",
    "#Generate a 5 x 1 array* of ints between 1 and 3, inclusive:\n",
    "B_add = np.random.default_rng().integers(1,4, size=(5))\n",
    "B = np.append(B1, B_add) #concatenate or vstack for scalar\n",
    "print(f'A: {A} | B: {B}')\n",
    "\n",
    "## create dataframe, transposed, and check the created data\n",
    "cols_test = pd.DataFrame([A,B]).T\n",
    "cols_test[1] = cols_test[1].astype(int) #Ensure the pclass column is int\n",
    "cols_test"
   ]
  },
  {
   "cell_type": "code",
   "execution_count": 3,
   "id": "1efbcde0-173d-4282-908e-7c527d00dff9",
   "metadata": {},
   "outputs": [],
   "source": [
    "## stackoverflow\n",
    "## https://stackoverflow.com/questions/56791544/using-pandas-df-where-on-multiple-columns-produces-unexpected-nan-values\n",
    "## https://stackoverflow.com/questions/70170218/use-nested-if-condition-in-dataframe\n",
    "## "
   ]
  },
  {
   "cell_type": "code",
   "execution_count": 4,
   "id": "f6877895-3606-4c1b-b854-74ed0a234872",
   "metadata": {},
   "outputs": [
    {
     "name": "stdout",
     "output_type": "stream",
     "text": [
      "[20, 23, 26, 299, nan, nan, nan, nan] [3, 4, 5, 2, 1, 2, 3, 1]\n"
     ]
    }
   ],
   "source": [
    "## I generate this data only to test (ensuring all options are tested)\n",
    "## Feel free to comment out\n",
    "\n",
    "X = [20, 23, 26, 299, np.nan, np.nan, np.nan, np.nan]\n",
    "Y = [3, 4, 5, 2, 1, 2, 3, 1]\n",
    "cols_test2 = pd.DataFrame([X,Y]).T\n",
    "print(X,Y)\n",
    "#cols_test2"
   ]
  },
  {
   "cell_type": "code",
   "execution_count": 5,
   "id": "8c838e8a-7b3b-43b0-9719-886d53675b42",
   "metadata": {},
   "outputs": [],
   "source": [
    "## define function to check NaN/null age and assign age\n",
    "def impute_age_pd_loc(cols):\n",
    "    age = cols[0] # assign first column to age Series\n",
    "    #print(f'age: {age}') #debug\n",
    "    age1 = cols.loc[:,0] # assign first column to age Series\n",
    "    #print(f'age1: {age1}') #debug\n",
    "    pclass = cols[1] #cols.loc[:,1] # wassign 2nd to pclass\n",
    "\n",
    "    ## nested pd.where\n",
    "    ################\n",
    "    # Unsuccessful #\n",
    "    ################\n",
    "    #age_null = age.where((cols[0].notnull()) & (cols[1]!=1), 37) #, inplace=True)\n",
    "    #age_null = age.where(~(cols[0].isnull()) & (cols[1]!=2), 39) #, inplace=True)\n",
    "    '''age_null = age.where((cols[0].isnull()) & (cols[1]==1), 37, axis=0\n",
    "                        ).where((cols[0].isnull()) & (cols[1]==2), 39\n",
    "                               ).where((cols[0].isnull()) & (np.logical_or(cols[1] != 1, cols[1] != 2)), 24) #, inplace=True)'''\n",
    "    '''age_null = age.where((age.isnull()) & (np.logical_or(pclass != 1, pclass != 2)), 24\n",
    "                        ).where((age.isnull()) & (pclass==2), 39\n",
    "                               ).where((age.isnull()) & (pclass==1), 37) #, inplace=True)'''\n",
    "    '''age_null = age.where(~(age.isnull()), age.where((age.isnull()) & (np.logical_or(pclass != 1, pclass != 2)), 24\n",
    "                                                   ).where((age.isnull()) & (pclass==2), 39)) #.where( # & ~(pclass==1)'''\n",
    "    '''age_null = age.where(~(age.isnull()), age.where((age.isnull()) & (np.logical_or(pclass != 1, pclass != 2)), 24\n",
    "                                                   ).where((age.isnull()) & (pclass==2), 39)) #.where( # & ~(pclass==1)'''\n",
    "    ################\n",
    "    \n",
    "    #''' #df.loc multiple condition df.isnull\n",
    "    ## df.loc[(cond), data col to change] = value to change\n",
    "    cols.loc[(age.isnull()) & (pclass==1), cols.columns[0]] = 37  ##NB: age is cols[0] and pclass is cols[1]\n",
    "    cols.loc[(age.isnull()) & (pclass==2), cols.columns[0]] = 39\n",
    "    cols.loc[(age.isnull()) & (pclass.ne(1,2)), cols.columns[0]] = 24\n",
    "    age_null = age.where(~(age.isnull()))\n",
    "    ## np.isnan can be used as well, however, I'm interested in keeping it natively pandas\n",
    "    ## It'll be interesting to turn df.loc to nested\n",
    "    #'''\n",
    "    \n",
    "    print(f'df.loc age col[0]: \\n{age_null}')\n",
    "    #print(f'df.loc age cols: \\n{cols[0]}')"
   ]
  },
  {
   "cell_type": "code",
   "execution_count": 6,
   "id": "a0859d9e-42d8-42b2-aa55-b4987c1261a1",
   "metadata": {},
   "outputs": [
    {
     "name": "stdout",
     "output_type": "stream",
     "text": [
      "df.loc age col[0]: \n",
      "0    20.0\n",
      "1    23.0\n",
      "2    26.0\n",
      "3    29.0\n",
      "4    37.0\n",
      "5    39.0\n",
      "6    24.0\n",
      "7    37.0\n",
      "Name: 0, dtype: float64\n"
     ]
    }
   ],
   "source": [
    "impute_age_pd_loc(cols_test)\n",
    "#impute_age_pd_loc(cols_test2)"
   ]
  },
  {
   "cell_type": "code",
   "execution_count": null,
   "id": "f7e6f567-b6cc-4d05-b4e6-ffb9c9d52585",
   "metadata": {},
   "outputs": [],
   "source": []
  },
  {
   "cell_type": "code",
   "execution_count": 7,
   "id": "7d83ab31-9de1-4ab3-844e-3bfc61ea3b30",
   "metadata": {},
   "outputs": [],
   "source": [
    "## define function to check NaN/null age and assign age\n",
    "## Map() | Python in-built function\n",
    "## \n",
    "\n",
    "def impute_age_map(cols):\n",
    "    age = cols[0] # assign first column to age Series\n",
    "    #print(f'age: {age}') #debug\n",
    "    age1 = cols.loc[:,0] # assign first column to age Series\n",
    "    #print(f'age1: {age1}') #debug\n",
    "    pclass = cols.loc[:,1] # assign 2nd col to pclass\n",
    "    \n",
    "    #map conditional fillna\n",
    "    ## map | assist: https://stackoverflow.com/a/74630735/20107918\n",
    "    s =  pclass.map({1: 37, 2: 39}).fillna(24) # pclass is cols[1]\n",
    "    age_null = age.fillna(s) #cols[0].fillna(s)\n",
    "    \n",
    "    print(f'mapped age col[0]: \\n{age_null}')"
   ]
  },
  {
   "cell_type": "code",
   "execution_count": 8,
   "id": "d4277ab9-3a34-42aa-9ce9-68b4b2f14741",
   "metadata": {},
   "outputs": [
    {
     "name": "stdout",
     "output_type": "stream",
     "text": [
      "mapped age col[0]: \n",
      "0    20.0\n",
      "1    23.0\n",
      "2    26.0\n",
      "3    29.0\n",
      "4    37.0\n",
      "5    39.0\n",
      "6    24.0\n",
      "7    37.0\n",
      "Name: 0, dtype: float64\n"
     ]
    }
   ],
   "source": [
    "impute_age_map(cols_test)\n",
    "#impute_age_map(cols_test2)"
   ]
  },
  {
   "cell_type": "code",
   "execution_count": null,
   "id": "f8f3f4ce-9b2d-4fb4-84e7-428b43ff4a1a",
   "metadata": {},
   "outputs": [],
   "source": []
  },
  {
   "cell_type": "code",
   "execution_count": 9,
   "id": "b422596e-3db3-4cbb-886b-371f1e21fc6a",
   "metadata": {},
   "outputs": [],
   "source": [
    "## define function to check NaN/null age and assign age\n",
    "## pandas.DataFrame.mask\n",
    "## DataFrame.mask(cond, other=nan ...)\n",
    "def impute_age_mask(cols):\n",
    "    age = cols[0] # assign first column to age Series\n",
    "    #print(f'age: {age}') #debug\n",
    "    age1 = cols.loc[:,0] # assign first column to age Series\n",
    "    #print(f'age1: {age1}') #debug\n",
    "    pclass = cols.loc[:,1] # assign 2nd col to pclass\n",
    "    \n",
    "    #mask replace conditional fillna with iterated value\n",
    "    \n",
    "    '''age_null = age.mask((age.isnull()) & (pclass==1), 37, inplace=True)  ##NB: age is cols[0] and pclass is cols[1]\n",
    "    age_null = age.mask((age.isnull()) & (pclass==2), 39, inplace=True)\n",
    "    age_null = age.mask((age.isnull()) & (pclass.ne(1,2)), 24, inplace=True)'''\n",
    "    \n",
    "    age.mask((age.isnull()) & (pclass==1), 37, inplace=True)  ##NB: age is cols[0] and pclass is cols[1]\n",
    "    age.mask((age.isnull()) & (pclass==2), 39, inplace=True)\n",
    "    age.mask((age.isnull()) & (pclass.ne(1,2)), 24, inplace=True)\n",
    "    \n",
    "    #print(f'mapped age mask: \\n{age_null}')\n",
    "    print(f'mapped age mask: \\n{age}')"
   ]
  },
  {
   "cell_type": "code",
   "execution_count": 10,
   "id": "fec2a039-c168-4604-81c2-86934612b17b",
   "metadata": {},
   "outputs": [
    {
     "name": "stdout",
     "output_type": "stream",
     "text": [
      "mapped age mask: \n",
      "0    20.0\n",
      "1    23.0\n",
      "2    26.0\n",
      "3    29.0\n",
      "4    37.0\n",
      "5    39.0\n",
      "6    24.0\n",
      "7    37.0\n",
      "Name: 0, dtype: float64\n"
     ]
    }
   ],
   "source": [
    "impute_age_mask(cols_test)\n",
    "#impute_age_mask(cols_test2)"
   ]
  },
  {
   "cell_type": "code",
   "execution_count": null,
   "id": "17f30c22-c98d-49c6-a8e9-551ed7cc78ef",
   "metadata": {},
   "outputs": [],
   "source": []
  },
  {
   "cell_type": "code",
   "execution_count": null,
   "id": "b3a0128a-158f-47e4-a2a6-fcee3a68a4f9",
   "metadata": {},
   "outputs": [],
   "source": []
  },
  {
   "cell_type": "code",
   "execution_count": null,
   "id": "fe7a9ca7-db3e-4bff-b37e-9cd1c2b30b9e",
   "metadata": {},
   "outputs": [],
   "source": [
    "## =============== =============== ##\n",
    "#        Below Caveat Emptor        #\n",
    "## =============== =============== ##"
   ]
  },
  {
   "cell_type": "code",
   "execution_count": null,
   "id": "8670e3dd-7683-412a-bbbf-a516189f1100",
   "metadata": {},
   "outputs": [],
   "source": [
    "## define function to check NaN/null age and assign age\n",
    "## pandas.DataFrame.mask\n",
    "## DataFrame.mask(cond, other=nan ...)\n",
    "def impute_age_mask(cols):\n",
    "    age = cols[0] # assign first column to age Series\n",
    "    #print(f'age: {age}') #debug\n",
    "    age1 = cols.loc[:,0] # assign first column to age Series\n",
    "    #print(f'age1: {age1}') #debug\n",
    "    pclass = cols.loc[:,1] # assign 2nd col to pclass\n",
    "    \n",
    "    #mask replace conditional fillna with iterated value\n",
    "    ##TODO\n",
    "    #s =  pclass.map({1: 37, 2: 39}).fillna(24) # pclass is cols[1]\n",
    "    #age_null = age.fillna(s) #cols[0].fillna(s)\n",
    "    '''age_null = age.mask((cols[0].isnull()) & (cols[1]==1), 37,\n",
    "                        age.mask((cols[0].isnull()) & (cols[1]==2), 39,\n",
    "                        age.mask((cols[0].isnull()) & (np.logical_or(cols[1] != 1, cols[1] != 2)), 24))).astype(int)'''\n",
    "\n",
    "    '''age_null = age.mask((cols[0].isnull()) & (cols[1]==1), 37).mask(\n",
    "                        (cols[0].isnull()) & (cols[1]==2), 39).mask(\n",
    "                        (cols[0].isnull()) & (np.logical_or(cols[1] != 1, cols[1] != 2)), 24).astype(int)'''\n",
    "    \n",
    "    '''#age_null = age.mask((age.isnull()) & (pclass==1), 37)  ##NB: age is cols[0] and pclass is cols[1]\n",
    "    age_null = age.mask((age.isnull()) & (pclass==2), 39)\n",
    "    age.mask((age.isnull()) & (pclass.ne(1,2)), 24)\n",
    "    #age_null = age.where(~(age.isnull()))'''\n",
    "    \n",
    "    '''age_null = age.mask((age.isnull()) & (pclass==1), 37, inplace=True)  ##NB: age is cols[0] and pclass is cols[1]\n",
    "    age_null = age.mask((age.isnull()) & (pclass==2), 39, inplace=True)\n",
    "    age.mask((age.isnull()) & (pclass.ne(1,2)), 24, inplace=True)'''\n",
    "    #age_null = age.where(~(age.isnull()))\n",
    "    \n",
    "    age.mask((age.isnull()) & (pclass==1), 37, inplace=True)  ##NB: age is cols[0] and pclass is cols[1]\n",
    "    age.mask((age.isnull()) & (pclass==2), 39, inplace=True)\n",
    "    age.mask((age.isnull()) & (pclass.ne(1,2)), 24, inplace=True)\n",
    "    \n",
    "    #print(f'mapped age mask: \\n{age_null}')\n",
    "    print(f'mapped age mask: \\n{age}')"
   ]
  },
  {
   "cell_type": "code",
   "execution_count": null,
   "id": "4bc2d597-da60-424a-8326-406332db03fa",
   "metadata": {},
   "outputs": [],
   "source": [
    "## pd.where | nested pd.where"
   ]
  },
  {
   "cell_type": "code",
   "execution_count": null,
   "id": "66d719ce-0b13-45a2-9391-4cc2600b3769",
   "metadata": {},
   "outputs": [],
   "source": []
  },
  {
   "cell_type": "code",
   "execution_count": null,
   "id": "42e6ba8e-58dd-4659-b9e3-7393f899a5f1",
   "metadata": {},
   "outputs": [],
   "source": [
    "#### TEST Pandas .mask documentation ####"
   ]
  },
  {
   "cell_type": "code",
   "execution_count": null,
   "id": "63fa4dc7-9d58-4731-bcb7-c2de0505fe5c",
   "metadata": {},
   "outputs": [],
   "source": [
    "df = pd.DataFrame(np.arange(10).reshape(-1, 2), columns=['A', 'B'])\n",
    "df"
   ]
  },
  {
   "cell_type": "code",
   "execution_count": null,
   "id": "85c17e49-58de-40d5-a250-5b86d69c495b",
   "metadata": {},
   "outputs": [],
   "source": [
    "m = df % 3 == 0\n",
    "df.where(m, -df)"
   ]
  },
  {
   "cell_type": "code",
   "execution_count": null,
   "id": "ac2f0c50-26be-4fbc-a464-548a9e28b9ad",
   "metadata": {},
   "outputs": [],
   "source": [
    "df.where(m, -df) == np.where(m, df, -df)"
   ]
  },
  {
   "cell_type": "code",
   "execution_count": null,
   "id": "c16ec487-f916-4450-a6cb-2d4857b7bf3d",
   "metadata": {},
   "outputs": [],
   "source": [
    "df.where(m, -df) == df.mask(~m, -df)\n"
   ]
  },
  {
   "cell_type": "code",
   "execution_count": null,
   "id": "1d41a19b-d558-409c-90e3-e342b5b27cd2",
   "metadata": {},
   "outputs": [],
   "source": []
  }
 ],
 "metadata": {
  "kernelspec": {
   "display_name": "Python 3 (ipykernel)",
   "language": "python",
   "name": "python3"
  },
  "language_info": {
   "codemirror_mode": {
    "name": "ipython",
    "version": 3
   },
   "file_extension": ".py",
   "mimetype": "text/x-python",
   "name": "python",
   "nbconvert_exporter": "python",
   "pygments_lexer": "ipython3",
   "version": "3.8.8"
  }
 },
 "nbformat": 4,
 "nbformat_minor": 5
}
